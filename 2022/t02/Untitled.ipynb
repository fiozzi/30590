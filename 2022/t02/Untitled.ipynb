{
 "cells": [
  {
   "cell_type": "code",
   "execution_count": 1,
   "id": "9c081adb",
   "metadata": {},
   "outputs": [],
   "source": [
    "import configparser"
   ]
  },
  {
   "cell_type": "code",
   "execution_count": 2,
   "id": "915d21ee",
   "metadata": {},
   "outputs": [],
   "source": [
    "config = configparser.ConfigParser()"
   ]
  },
  {
   "cell_type": "code",
   "execution_count": 5,
   "id": "cce0eeae",
   "metadata": {},
   "outputs": [
    {
     "data": {
      "text/plain": [
       "['wsconfig.ini']"
      ]
     },
     "execution_count": 5,
     "metadata": {},
     "output_type": "execute_result"
    }
   ],
   "source": [
    "config.read('wsconfig.ini')"
   ]
  },
  {
   "cell_type": "code",
   "execution_count": 17,
   "id": "03f21955",
   "metadata": {},
   "outputs": [
    {
     "data": {
      "text/plain": [
       "['CALENDAR', 'EVENT']"
      ]
     },
     "execution_count": 17,
     "metadata": {},
     "output_type": "execute_result"
    }
   ],
   "source": [
    "config.sections()"
   ]
  },
  {
   "cell_type": "code",
   "execution_count": 19,
   "id": "925a9f57",
   "metadata": {},
   "outputs": [
    {
     "data": {
      "text/plain": [
       "'https://didattica.unibocconi.it/lezioni/pop_orariogiorn.php?codice_ins=30540&classe=27&gruppo=27&fe_lingua_short=I'"
      ]
     },
     "execution_count": 19,
     "metadata": {},
     "output_type": "execute_result"
    }
   ],
   "source": [
    "config['CALENDAR']['URL']"
   ]
  },
  {
   "cell_type": "code",
   "execution_count": 14,
   "id": "ed5e90c5",
   "metadata": {},
   "outputs": [
    {
     "ename": "TypeError",
     "evalue": "list indices must be integers or slices, not str",
     "output_type": "error",
     "traceback": [
      "\u001b[1;31m---------------------------------------------------------------------------\u001b[0m",
      "\u001b[1;31mTypeError\u001b[0m                                 Traceback (most recent call last)",
      "\u001b[1;32m<ipython-input-14-5f6516879f86>\u001b[0m in \u001b[0;36m<module>\u001b[1;34m\u001b[0m\n\u001b[1;32m----> 1\u001b[1;33m \u001b[0msec\u001b[0m\u001b[1;33m[\u001b[0m\u001b[1;34m'CALENDAR'\u001b[0m\u001b[1;33m]\u001b[0m\u001b[1;33m\u001b[0m\u001b[1;33m\u001b[0m\u001b[0m\n\u001b[0m",
      "\u001b[1;31mTypeError\u001b[0m: list indices must be integers or slices, not str"
     ]
    }
   ],
   "source": [
    "sec['CALENDAR']"
   ]
  },
  {
   "cell_type": "code",
   "execution_count": 16,
   "id": "8d7bdec4",
   "metadata": {},
   "outputs": [
    {
     "data": {
      "text/plain": [
       "configparser.ConfigParser"
      ]
     },
     "execution_count": 16,
     "metadata": {},
     "output_type": "execute_result"
    }
   ],
   "source": [
    "type(config)"
   ]
  },
  {
   "cell_type": "code",
   "execution_count": 20,
   "id": "f56caecb",
   "metadata": {},
   "outputs": [],
   "source": [
    "import datetime"
   ]
  },
  {
   "cell_type": "code",
   "execution_count": 23,
   "id": "83c1e65c",
   "metadata": {},
   "outputs": [],
   "source": [
    "t = datetime.datetime.today()"
   ]
  },
  {
   "cell_type": "code",
   "execution_count": 33,
   "id": "4770f6ff",
   "metadata": {},
   "outputs": [
    {
     "data": {
      "text/plain": [
       "'20211227T165451'"
      ]
     },
     "execution_count": 33,
     "metadata": {},
     "output_type": "execute_result"
    }
   ],
   "source": [
    "f'{t.strftime(\"%Y%m%d\")}T{t.strftime(\"%H%M%S\")}'"
   ]
  },
  {
   "cell_type": "code",
   "execution_count": null,
   "id": "f597af66",
   "metadata": {},
   "outputs": [],
   "source": []
  }
 ],
 "metadata": {
  "kernelspec": {
   "display_name": "Python 3",
   "language": "python",
   "name": "python3"
  },
  "language_info": {
   "codemirror_mode": {
    "name": "ipython",
    "version": 3
   },
   "file_extension": ".py",
   "mimetype": "text/x-python",
   "name": "python",
   "nbconvert_exporter": "python",
   "pygments_lexer": "ipython3",
   "version": "3.8.10"
  }
 },
 "nbformat": 4,
 "nbformat_minor": 5
}
