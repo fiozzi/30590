{
 "cells": [
  {
   "cell_type": "code",
   "execution_count": 1,
   "id": "fc5eeb71",
   "metadata": {},
   "outputs": [],
   "source": [
    "from bs4 import BeautifulSoup"
   ]
  },
  {
   "cell_type": "code",
   "execution_count": 2,
   "id": "c26381c6",
   "metadata": {},
   "outputs": [],
   "source": [
    "html_file = 'sample_ws.html'"
   ]
  },
  {
   "cell_type": "code",
   "execution_count": 3,
   "id": "25d5fa45",
   "metadata": {},
   "outputs": [],
   "source": [
    "with open(html_file,'r') as f:\n",
    "    page = f.read()"
   ]
  },
  {
   "cell_type": "code",
   "execution_count": 4,
   "id": "848c9284",
   "metadata": {},
   "outputs": [
    {
     "data": {
      "text/plain": [
       "'<!DOCTYPE html>\\n<html>\\n<head>\\n    <title>This a sample HTML page for 30590</title>\\n    <style>\\n    table {\\n    font-family: arial, sans-serif;\\n    border-collapse: collapse;\\n    width: 100%;\\n    }\\n\\n    td, th {\\n    border: 1px solid #dddddd;\\n    text-align: left;\\n    padding: 8px;\\n    }\\n\\n    tr:nth-child(even) {\\n    background-color: #dddddd;\\n    }\\n    </style>\\n</head>\\n<body>\\n\\n<h2>HTML Table</h2>\\n\\n<table>\\n  <tr>\\n    <th>Company</th>\\n    <th>Contact</th>\\n    <th>Country</th>\\n  </tr>\\n  <tr>\\n    <td>Alfreds Futterkiste</td>\\n    <td>Maria Anders</td>\\n    <td>Germany</td>\\n  </tr>\\n  <tr>\\n    <td>Centro comercial Moctezuma</td>\\n    <td>Francisco Chang</td>\\n    <td>Mexico</td>\\n  </tr>\\n  <tr>\\n    <td>Ernst Handel</td>\\n    <td>Roland Mendel</td>\\n    <td>Austria</td>\\n  </tr>\\n  <tr>\\n    <td>Island Trading</td>\\n    <td>Helen Bennett</td>\\n    <td>UK</td>\\n  </tr>\\n  <tr>\\n    <td>Laughing Bacchus Winecellars</td>\\n    <td>Yoshi Tannamuri</td>\\n    <td>Canada</td>\\n  </tr>\\n  <tr>\\n    <td>Magazzini Alimentari Riuniti</td>\\n    <td>Giovanni Rovelli</td>\\n    <td>Italy</td>\\n  </tr>\\n</table>\\n\\n</body>\\n</html>\\n\\n'"
      ]
     },
     "execution_count": 4,
     "metadata": {},
     "output_type": "execute_result"
    }
   ],
   "source": [
    "page"
   ]
  },
  {
   "cell_type": "code",
   "execution_count": 5,
   "id": "67508a01",
   "metadata": {},
   "outputs": [],
   "source": [
    "parsed_page = BeautifulSoup(page,'html.parser')"
   ]
  },
  {
   "cell_type": "code",
   "execution_count": 6,
   "id": "307cd8d7",
   "metadata": {},
   "outputs": [
    {
     "data": {
      "text/plain": [
       "bs4.BeautifulSoup"
      ]
     },
     "execution_count": 6,
     "metadata": {},
     "output_type": "execute_result"
    }
   ],
   "source": [
    "type(parsed_page)"
   ]
  },
  {
   "cell_type": "code",
   "execution_count": 7,
   "id": "d05cfe55",
   "metadata": {},
   "outputs": [],
   "source": [
    "tag_container = parsed_page.find('table')"
   ]
  },
  {
   "cell_type": "code",
   "execution_count": 8,
   "id": "9abc893f",
   "metadata": {},
   "outputs": [
    {
     "data": {
      "text/plain": [
       "bs4.element.Tag"
      ]
     },
     "execution_count": 8,
     "metadata": {},
     "output_type": "execute_result"
    }
   ],
   "source": [
    "type(tag_container)"
   ]
  },
  {
   "cell_type": "code",
   "execution_count": 9,
   "id": "c8c42551",
   "metadata": {},
   "outputs": [],
   "source": [
    "rows = tag_container.find_all('tr')"
   ]
  },
  {
   "cell_type": "code",
   "execution_count": 10,
   "id": "69892ca6",
   "metadata": {},
   "outputs": [
    {
     "data": {
      "text/plain": [
       "bs4.element.ResultSet"
      ]
     },
     "execution_count": 10,
     "metadata": {},
     "output_type": "execute_result"
    }
   ],
   "source": [
    "type(rows)"
   ]
  },
  {
   "cell_type": "code",
   "execution_count": 11,
   "id": "c5a9c574",
   "metadata": {},
   "outputs": [
    {
     "data": {
      "text/plain": [
       "[<tr>\n",
       " <th>Company</th>\n",
       " <th>Contact</th>\n",
       " <th>Country</th>\n",
       " </tr>,\n",
       " <tr>\n",
       " <td>Alfreds Futterkiste</td>\n",
       " <td>Maria Anders</td>\n",
       " <td>Germany</td>\n",
       " </tr>,\n",
       " <tr>\n",
       " <td>Centro comercial Moctezuma</td>\n",
       " <td>Francisco Chang</td>\n",
       " <td>Mexico</td>\n",
       " </tr>,\n",
       " <tr>\n",
       " <td>Ernst Handel</td>\n",
       " <td>Roland Mendel</td>\n",
       " <td>Austria</td>\n",
       " </tr>,\n",
       " <tr>\n",
       " <td>Island Trading</td>\n",
       " <td>Helen Bennett</td>\n",
       " <td>UK</td>\n",
       " </tr>,\n",
       " <tr>\n",
       " <td>Laughing Bacchus Winecellars</td>\n",
       " <td>Yoshi Tannamuri</td>\n",
       " <td>Canada</td>\n",
       " </tr>,\n",
       " <tr>\n",
       " <td>Magazzini Alimentari Riuniti</td>\n",
       " <td>Giovanni Rovelli</td>\n",
       " <td>Italy</td>\n",
       " </tr>]"
      ]
     },
     "execution_count": 11,
     "metadata": {},
     "output_type": "execute_result"
    }
   ],
   "source": [
    "rows"
   ]
  },
  {
   "cell_type": "code",
   "execution_count": 12,
   "id": "e0121cb1",
   "metadata": {},
   "outputs": [
    {
     "data": {
      "text/plain": [
       "bs4.element.Tag"
      ]
     },
     "execution_count": 12,
     "metadata": {},
     "output_type": "execute_result"
    }
   ],
   "source": [
    "type(rows[0])"
   ]
  },
  {
   "cell_type": "code",
   "execution_count": 13,
   "id": "9b4d617d",
   "metadata": {},
   "outputs": [
    {
     "data": {
      "text/plain": [
       "<tr>\n",
       "<th>Company</th>\n",
       "<th>Contact</th>\n",
       "<th>Country</th>\n",
       "</tr>"
      ]
     },
     "execution_count": 13,
     "metadata": {},
     "output_type": "execute_result"
    }
   ],
   "source": [
    "rows[0]"
   ]
  },
  {
   "cell_type": "code",
   "execution_count": 15,
   "id": "f1f04085",
   "metadata": {},
   "outputs": [
    {
     "data": {
      "text/plain": [
       "[<th>Company</th>, <th>Contact</th>, <th>Country</th>]"
      ]
     },
     "execution_count": 15,
     "metadata": {},
     "output_type": "execute_result"
    }
   ],
   "source": [
    "rows[0].find_all('th')"
   ]
  },
  {
   "cell_type": "code",
   "execution_count": 16,
   "id": "96de2cb1",
   "metadata": {},
   "outputs": [
    {
     "name": "stdout",
     "output_type": "stream",
     "text": [
      "[<td>Alfreds Futterkiste</td>, <td>Maria Anders</td>, <td>Germany</td>]\n",
      "[<td>Centro comercial Moctezuma</td>, <td>Francisco Chang</td>, <td>Mexico</td>]\n",
      "[<td>Ernst Handel</td>, <td>Roland Mendel</td>, <td>Austria</td>]\n",
      "[<td>Island Trading</td>, <td>Helen Bennett</td>, <td>UK</td>]\n",
      "[<td>Laughing Bacchus Winecellars</td>, <td>Yoshi Tannamuri</td>, <td>Canada</td>]\n",
      "[<td>Magazzini Alimentari Riuniti</td>, <td>Giovanni Rovelli</td>, <td>Italy</td>]\n"
     ]
    }
   ],
   "source": [
    "for row in rows[1:]:\n",
    "    print(row.find_all('td'))"
   ]
  },
  {
   "cell_type": "code",
   "execution_count": 18,
   "id": "7e2fbffe",
   "metadata": {},
   "outputs": [
    {
     "name": "stdout",
     "output_type": "stream",
     "text": [
      "Maria Anders\n",
      "Francisco Chang\n",
      "Roland Mendel\n",
      "Helen Bennett\n",
      "Yoshi Tannamuri\n",
      "Giovanni Rovelli\n"
     ]
    }
   ],
   "source": [
    "for row in rows[1:]:\n",
    "    print(row.find_all('td')[1].string)"
   ]
  },
  {
   "cell_type": "code",
   "execution_count": null,
   "id": "a17b94d7",
   "metadata": {},
   "outputs": [],
   "source": []
  }
 ],
 "metadata": {
  "kernelspec": {
   "display_name": "Python 3",
   "language": "python",
   "name": "python3"
  },
  "language_info": {
   "codemirror_mode": {
    "name": "ipython",
    "version": 3
   },
   "file_extension": ".py",
   "mimetype": "text/x-python",
   "name": "python",
   "nbconvert_exporter": "python",
   "pygments_lexer": "ipython3",
   "version": "3.8.10"
  }
 },
 "nbformat": 4,
 "nbformat_minor": 5
}
